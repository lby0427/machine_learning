{
 "cells": [
  {
   "cell_type": "code",
   "execution_count": 1,
   "metadata": {},
   "outputs": [],
   "source": [
    "import numpy as np\n",
    "\n",
    "\n",
    "def em(data, thetas, max_iter=50, eps=1e-3):\n",
    "    \"\"\"\n",
    "    输入\n",
    "    :param data: 观测数据\n",
    "    :param thetas: 初始化的估计参数值\n",
    "    :param max_iter: 最大迭代次数\n",
    "    :param eps: 收敛阈值\n",
    "    :return: thetas:估计值\n",
    "    \"\"\"\n",
    "    # 初始化似然函数值\n",
    "    ll_old = 0\n",
    "    for i in range(max_iter):\n",
    "        \"\"\"\n",
    "        E步：求隐变量分布\n",
    "        \"\"\"\n",
    "        # 对数似然\n",
    "        log_like = np.array([np.sum(data * np.log(theta), axis=1) for theta in thetas])\n",
    "        # 似然\n",
    "        like = np.exp(log_like)\n",
    "        # 求隐变量分布\n",
    "        ws = like/like.sum(0)\n",
    "        # 概率加权\n",
    "        vs = np.array([w[:, None] * data for w in ws])\n",
    "        \"\"\"\n",
    "        ### M步：更新参数值\n",
    "        \"\"\"\n",
    "        thetas = np.array([v.sum(0)/v.sum() for v in vs])\n",
    "        thetas = np.array([v.sum(0)/v.sum() for v in vs])\n",
    "        # 更新似然函数\n",
    "        ll_new = np.sum([w*l for w, l in zip(ws, log_like)])\n",
    "        print(\"Iteration:%d\" % (i+1))\n",
    "        #print(\"theta_B = %.2f, theta_C = %.2f, ll = %.2f\" % (thetas[0, 0], thetas[1, 0], ll_new))\n",
    "        print(\"theta_B = %.2f, theta_C = %.2f, ll = %.2f\"\n",
    "              % (thetas[0,0], thetas[1,0], ll_new))\n",
    "        if np.abs(ll_new - ll_old) < eps:\n",
    "            break\n",
    "        ll_old = ll_new\n",
    "\n",
    "    return thetas\n",
    "\n"
   ]
  },
  {
   "cell_type": "code",
   "execution_count": 2,
   "metadata": {},
   "outputs": [
    {
     "name": "stdout",
     "output_type": "stream",
     "text": [
      "Iteration:1\n",
      "theta_B = 0.71, theta_C = 0.58, ll = -32.69\n",
      "Iteration:2\n",
      "theta_B = 0.75, theta_C = 0.57, ll = -31.26\n",
      "Iteration:3\n",
      "theta_B = 0.77, theta_C = 0.55, ll = -30.76\n",
      "Iteration:4\n",
      "theta_B = 0.78, theta_C = 0.53, ll = -30.33\n",
      "Iteration:5\n",
      "theta_B = 0.79, theta_C = 0.53, ll = -30.07\n",
      "Iteration:6\n",
      "theta_B = 0.79, theta_C = 0.52, ll = -29.95\n",
      "Iteration:7\n",
      "theta_B = 0.80, theta_C = 0.52, ll = -29.90\n",
      "Iteration:8\n",
      "theta_B = 0.80, theta_C = 0.52, ll = -29.88\n",
      "Iteration:9\n",
      "theta_B = 0.80, theta_C = 0.52, ll = -29.87\n",
      "Iteration:10\n",
      "theta_B = 0.80, theta_C = 0.52, ll = -29.87\n",
      "Iteration:11\n",
      "theta_B = 0.80, theta_C = 0.52, ll = -29.87\n",
      "Iteration:12\n",
      "theta_B = 0.80, theta_C = 0.52, ll = -29.87\n",
      "[[0.7967829  0.2032171 ]\n",
      " [0.51959543 0.48040457]]\n"
     ]
    }
   ],
   "source": [
    "# 观测数据，5次独立实验， 每次实验10次抛掷的正反面次数\n",
    "# 比如第一次实验为5次正面，5次反面\n",
    "observed_data = np.array([(5, 5), (9, 1), (8, 2), (4, 6), (7, 3)])\n",
    "# 初始化参数值，即硬币B出现正面的概率为0.6，硬币C出现正面的概率为0.5\n",
    "thetas = np.array([[0.6, 0.4], [0.5, 0.5]])\n",
    "# EM算寻优\n",
    "thetas = em(observed_data, thetas, max_iter=30, eps=1e-3)\n",
    "print(thetas)"
   ]
  },
  {
   "cell_type": "code",
   "execution_count": null,
   "metadata": {},
   "outputs": [],
   "source": []
  }
 ],
 "metadata": {
  "kernelspec": {
   "display_name": "Python 3",
   "language": "python",
   "name": "python3"
  },
  "language_info": {
   "codemirror_mode": {
    "name": "ipython",
    "version": 3
   },
   "file_extension": ".py",
   "mimetype": "text/x-python",
   "name": "python",
   "nbconvert_exporter": "python",
   "pygments_lexer": "ipython3",
   "version": "3.8.5"
  }
 },
 "nbformat": 4,
 "nbformat_minor": 4
}
